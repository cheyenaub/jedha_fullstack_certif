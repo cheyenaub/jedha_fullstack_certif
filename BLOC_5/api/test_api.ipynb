{
 "cells": [
  {
   "cell_type": "code",
   "execution_count": 1,
   "metadata": {},
   "outputs": [],
   "source": [
    "import requests \n",
    "import json"
   ]
  },
  {
   "cell_type": "code",
   "execution_count": 3,
   "metadata": {},
   "outputs": [
    {
     "name": "stdout",
     "output_type": "stream",
     "text": [
      "{'prediction': 198.54708315645962}\n"
     ]
    }
   ],
   "source": [
    "response = requests.post(\"https://getaround-pricing-08-d44b92b2e4b0.herokuapp.com/predict\",\n",
    "    json={\n",
    "        \"model_key\" : \"Mercedes\",\n",
    "        \"mileage\" : 6500,\n",
    "        \"engine_power\" : 200,\n",
    "        \"fuel\" : \"diesel\",\n",
    "        \"paint_color\" : \"black\",\n",
    "        \"car_type\" : \"suv\",\n",
    "        \"private_parking_available\" : False,\n",
    "        \"has_gps\" : True,\n",
    "        \"has_air_conditioning\" : True,\n",
    "        \"automatic_car\" : True,\n",
    "        \"has_getaround_connect\" : False,\n",
    "        \"has_speed_regulator\" : True,\n",
    "        \"winter_tires\" : True\n",
    "        })\n",
    "\n",
    "print(response.json())"
   ]
  }
 ],
 "metadata": {
  "kernelspec": {
   "display_name": "projectenv",
   "language": "python",
   "name": "python3"
  },
  "language_info": {
   "codemirror_mode": {
    "name": "ipython",
    "version": 3
   },
   "file_extension": ".py",
   "mimetype": "text/x-python",
   "name": "python",
   "nbconvert_exporter": "python",
   "pygments_lexer": "ipython3",
   "version": "3.11.3"
  },
  "orig_nbformat": 4
 },
 "nbformat": 4,
 "nbformat_minor": 2
}
